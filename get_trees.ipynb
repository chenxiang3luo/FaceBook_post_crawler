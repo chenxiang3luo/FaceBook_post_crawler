{
 "cells": [
  {
   "cell_type": "code",
   "execution_count": 1,
   "metadata": {},
   "outputs": [],
   "source": [
    "import os\n",
    "import json\n",
    "import pandas as pd\n",
    "file_names = []\n",
    "for file_name in os.listdir('./数据集id'):\n",
    "    file_names.append('./数据集id/'+file_name)"
   ]
  },
  {
   "cell_type": "code",
   "execution_count": 26,
   "metadata": {},
   "outputs": [],
   "source": [
    "# import uuid\n",
    "# def get_recursive_tree(ss,fd,obj,parent_uuid):\n",
    "#     item = {}\n",
    "#     item['uuid'] = obj['uuid']\n",
    "#     item['parent'] = parent_uuid\n",
    "#     item['kids'] = []\n",
    "#     item['post_text'] = obj['post_text']\n",
    "#     item['post_url'] = obj['post_url']\n",
    "#     item['post_user_name'] = obj['post_user_name']\n",
    "#     item['post_reaction_num'] = obj['post_reaction_num']\n",
    "#     item['post_share_comment'] = obj['post_share_comment']\n",
    "#     item['post_user_url'] = obj['post_user_url']\n",
    "#     for post in obj['reposts']:\n",
    "#         item['kids'].append(post['uuid'])\n",
    "#     fd.write(json.dumps(item,ensure_ascii=False)+',')\n",
    "#     fd.write('\\n')\n",
    "#     for post in obj['reposts']:\n",
    "#         get_recursive_tree(ss,fd,post,obj['uuid'])\n",
    "import uuid\n",
    "def get_recursive_tree(ss,fd,obj,parent_uuid):\n",
    "    item = {}\n",
    "    item['uuid'] = obj['uuid']\n",
    "    item['parent'] = parent_uuid\n",
    "    item['kids'] = []\n",
    "    item['post_text'] = obj['post_text']\n",
    "    item['post_url'] = obj['post_url']\n",
    "    item['post_user_name'] = obj['post_user_name']\n",
    "    item['post_time'] = obj['post_time']\n",
    "    item['post_reaction_num'] = obj['post_reaction_num']\n",
    "    item['post_share_comment'] = obj['post_share_comment']\n",
    "    item['post_user_url'] = obj['post_user_url']\n",
    "    for post in obj['reposts']:\n",
    "        item['kids'].append(post['uuid'])\n",
    "    ss.append(item)\n",
    "    for post in obj['reposts']:\n",
    "        get_recursive_tree(ss,fd,post,obj['uuid'])"
   ]
  },
  {
   "cell_type": "code",
   "execution_count": 28,
   "metadata": {},
   "outputs": [],
   "source": [
    "import uuid\n",
    "\n",
    "for file_name in file_names:\n",
    "    with open(file = file_name,encoding='utf-8') as f:\n",
    "        for line in f:\n",
    "            obj = json.loads(line)\n",
    "            file= './trees/'+obj['uuid']+'.json'\n",
    "            with open(file = file,encoding='utf-8',mode='a') as fd:\n",
    "                ss = []\n",
    "                get_recursive_tree(ss,fd,obj,'-1')\n",
    "                fd.write(json.dumps(ss,ensure_ascii=False))"
   ]
  },
  {
   "cell_type": "code",
   "execution_count": 25,
   "metadata": {},
   "outputs": [
    {
     "data": {
      "text/plain": [
       "[{}, {}]"
      ]
     },
     "execution_count": 25,
     "metadata": {},
     "output_type": "execute_result"
    }
   ],
   "source": [
    "json.loads('[{}, {}]')"
   ]
  }
 ],
 "metadata": {
  "kernelspec": {
   "display_name": "Python 3.9.1 64-bit",
   "language": "python",
   "name": "python3"
  },
  "language_info": {
   "codemirror_mode": {
    "name": "ipython",
    "version": 3
   },
   "file_extension": ".py",
   "mimetype": "text/x-python",
   "name": "python",
   "nbconvert_exporter": "python",
   "pygments_lexer": "ipython3",
   "version": "3.9.1"
  },
  "orig_nbformat": 4,
  "vscode": {
   "interpreter": {
    "hash": "501834c540f8b330c04c1d43ec1666643355d13f80c9caf7e1080236b3fb263f"
   }
  }
 },
 "nbformat": 4,
 "nbformat_minor": 2
}
