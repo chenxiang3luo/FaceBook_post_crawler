{
 "cells": [
  {
   "cell_type": "code",
   "execution_count": 1,
   "metadata": {},
   "outputs": [],
   "source": [
    "import os\n",
    "import json\n",
    "import pandas as pd\n",
    "file_names = []\n",
    "for file_name in os.listdir('./'):\n",
    "    if('heal' in file_name):\n",
    "        file_names.append('./'+file_name)"
   ]
  },
  {
   "cell_type": "code",
   "execution_count": null,
   "metadata": {},
   "outputs": [],
   "source": [
    "\n",
    "for file_name in file_names:\n",
    "    dfs = []\n",
    "    with open(file = file_name,encoding='utf-8') as f:\n",
    "        label_name = './过滤空数据集/'+file_name.split('/')[-1]\n",
    "        index = 0\n",
    "        with open(file = label_name,encoding='utf-8',mode='a') as s:\n",
    "            for line in f:\n",
    "                obj = json.loads(line)\n",
    "                if(len(obj['reposts']) >= 2):\n",
    "                    s.write(json.dumps(obj,ensure_ascii=False))\n",
    "                    s.write('\\n')\n",
    "                else:\n",
    "                    print('filtered')\n"
   ]
  }
 ],
 "metadata": {
  "kernelspec": {
   "display_name": "Python 3.9.1 64-bit",
   "language": "python",
   "name": "python3"
  },
  "language_info": {
   "codemirror_mode": {
    "name": "ipython",
    "version": 3
   },
   "file_extension": ".py",
   "mimetype": "text/x-python",
   "name": "python",
   "nbconvert_exporter": "python",
   "pygments_lexer": "ipython3",
   "version": "3.9.1"
  },
  "orig_nbformat": 4,
  "vscode": {
   "interpreter": {
    "hash": "501834c540f8b330c04c1d43ec1666643355d13f80c9caf7e1080236b3fb263f"
   }
  }
 },
 "nbformat": 4,
 "nbformat_minor": 2
}
